{
 "cells": [
  {
   "cell_type": "markdown",
   "metadata": {},
   "source": [
    "# Script Kullanımı Açıklama:\n",
    "Script'imiz bir Networkx graph'ı alıyor ve bu graph'ı 30 dimension'lı bir graph embedding'ine çeviriyor\n",
    "Bu graph embedding'ini Node2Vec kütüphanesini kullanarak elde etmekteyiz \n",
    "Parameters:\n",
    "1) walk_length = 10 \n",
    "2) num_walks = 40\n",
    "\n",
    "pickle kütüphanesini kullanarak elde ettiğimiz eğitilmiş kMeans için gerekli olan modelleri load ediyoruz.\n",
    "Load Ettiğimiz modellerle bize verilen graph'ın sonucunu predict ederek bu predict edilen sonucu dönüyoruz.\n",
    "\n",
    "# Kullanma yöntemi:\n",
    "Networkx graph'ınızı \"scriptKullanilacakFonksiyon\" isimli fonksiyona vermeniz yeterlidir.\n",
    "Bu fonksiyon graph'ınızı alacak ve sonucunda prediction'ı dönecektir.\n",
    "Fonksiyonda dönen değer 1 ise Partition edilebilir (Yani Yes label'lı), 0 ise Partition edilemez(Yani No label'li)\n",
    "\n",
    "# Gerekli kutuphaneler\n",
    "1) numpy\n",
    "2) node2Vec (Version 0.4.6)\n",
    "3) pickle   (Version 0.7.5)"
   ]
  },
  {
   "cell_type": "code",
   "execution_count": 33,
   "metadata": {},
   "outputs": [],
   "source": [
    "# General Libraries\n",
    "import random as rand\n",
    "import numpy as np\n",
    "# Graph Representation & Embedding Library\n",
    "import networkx as nx \n",
    "from node2vec import Node2Vec\n",
    "import pickle\n",
    "\n",
    "import differentGraphs as dg"
   ]
  },
  {
   "cell_type": "code",
   "execution_count": 34,
   "metadata": {},
   "outputs": [],
   "source": [
    "def getEmbedding(G):\n",
    "    # Precompute probabilities and generate walks\n",
    "    node2vec = Node2Vec(G, dimensions=30, walk_length=10, num_walks=40, workers=4)\n",
    "\n",
    "    # Embed nodes\n",
    "    model = node2vec.fit(window=5, min_count=1, batch_words=4)\n",
    "\n",
    "    # Get embeddings for all nodes in the graph\n",
    "    all_node_embeddings = {node: model.wv[str(node)] for node in G.nodes()}\n",
    "\n",
    "    return all_node_embeddings\n",
    "    # loaded_model = Node2Vec.load(\"node2vec_model.bin\")\n",
    "    # loaded_embedding = loaded_model.wv['0']\n",
    "    # print(f\"Loaded Embedding for Node 0: {loaded_embedding}\")\n",
    "\n",
    "def dictionaryToNpArray(embedding):\n",
    "    array_from_dict = np.array(list(embedding.values()))\n",
    "    return array_from_dict\n"
   ]
  },
  {
   "cell_type": "code",
   "execution_count": 35,
   "metadata": {},
   "outputs": [],
   "source": [
    "def scriptKullanilacakFonksiyon(G):\n",
    "    # Modeli yükleyip kullanma\n",
    "    # K-Means modelini yükle\n",
    "    with open('kmeans_model.pickle', 'rb') as kmeans_file:\n",
    "        loaded_kmeans = pickle.load(kmeans_file)\n",
    "\n",
    "    # Lineer Regresyon modellerini yükle\n",
    "    loaded_models = []\n",
    "    for i in range(2):\n",
    "        with open(f'linear_regression_model_cluster_{i}.pickle', 'rb') as model_file:\n",
    "            loaded_model = pickle.load(model_file)\n",
    "        loaded_models.append(loaded_model)\n",
    "\n",
    "    k_neighbors = rand.randint(2,4)\n",
    "    probability = rand.random()\n",
    "    numberOfNodes = rand.randint(60,200)\n",
    "    G = dg.generate_watts_strogatz_graph(numberOfNodes,seed = 123, k_neighbors=k_neighbors, probability= probability)\n",
    "\n",
    "    while not nx.is_connected(G):\n",
    "        k_neighbors = rand.randint(2,4)\n",
    "        probability = rand.random()\n",
    "        numberOfNodes = rand.randint(60,200)\n",
    "        G = dg.generate_watts_strogatz_graph(numberOfNodes,seed = 123, k_neighbors=k_neighbors, probability= probability)\n",
    "    \n",
    "    nodeEmbeddings = getEmbedding(G) \n",
    "    nodeEmbeddingsArray = dictionaryToNpArray(nodeEmbeddings)\n",
    "    graphEmbedding = np.mean(nodeEmbeddingsArray, axis=0).astype('float')\n",
    "\n",
    "    cluster_prediction = loaded_kmeans.predict(graphEmbedding.reshape(1, -1))\n",
    "\n",
    "    # Tahmin edilen kümenin modelini kullanarak sonucu tahmin et\n",
    "    result_prediction = loaded_models[cluster_prediction[0]].predict(graphEmbedding.reshape(1, -1))\n",
    "    \n",
    "    # Prediction 0.5'den buyukse 1 veriyor (Yani partition edilebilir)\n",
    "    if result_prediction > 0.5:\n",
    "        return 1\n",
    "    \n",
    "    # Prediction 0.5'den kucukse 0 veriyor (Yani partition edilemedi)\n",
    "    else: \n",
    "        return 0"
   ]
  },
  {
   "cell_type": "code",
   "execution_count": 36,
   "metadata": {},
   "outputs": [
    {
     "name": "stderr",
     "output_type": "stream",
     "text": [
      "c:\\Users\\bora\\anaconda3\\envs\\test1\\lib\\site-packages\\sklearn\\base.py:315: UserWarning: Trying to unpickle estimator KMeans from version 1.3.2 when using version 0.24.2. This might lead to breaking code or invalid results. Use at your own risk.\n",
      "  UserWarning)\n",
      "c:\\Users\\bora\\anaconda3\\envs\\test1\\lib\\site-packages\\sklearn\\base.py:315: UserWarning: Trying to unpickle estimator LinearRegression from version 1.3.2 when using version 0.24.2. This might lead to breaking code or invalid results. Use at your own risk.\n",
      "  UserWarning)\n",
      "Computing transition probabilities: 100%|██████████| 135/135 [00:00<00:00, 26991.66it/s]\n"
     ]
    },
    {
     "name": "stdout",
     "output_type": "stream",
     "text": [
      "0\n"
     ]
    }
   ],
   "source": [
    "print(scriptKullanilacakFonksiyon(1))"
   ]
  }
 ],
 "metadata": {
  "kernelspec": {
   "display_name": "yap470",
   "language": "python",
   "name": "python3"
  },
  "language_info": {
   "codemirror_mode": {
    "name": "ipython",
    "version": 3
   },
   "file_extension": ".py",
   "mimetype": "text/x-python",
   "name": "python",
   "nbconvert_exporter": "python",
   "pygments_lexer": "ipython3",
   "version": "3.6.13"
  }
 },
 "nbformat": 4,
 "nbformat_minor": 2
}
