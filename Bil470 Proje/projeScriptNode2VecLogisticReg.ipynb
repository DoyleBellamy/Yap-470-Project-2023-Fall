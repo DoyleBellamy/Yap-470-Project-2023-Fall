{
 "cells": [
  {
   "cell_type": "markdown",
   "metadata": {},
   "source": [
    "# Proje Üyeleri:\n",
    "1) Umut Özdemir         211101004\n",
    "2) Kadir Bora Kara      201101029\n",
    "3) Can Ata Haccacoglu   201101033\n",
    "\n",
    "# Script Kullanımı Açıklama:\n",
    "Script'imiz bir Networkx graph'ı alıyor ve bu graph'ı 30 dimension'lı bir graph embedding'ine çeviriyor\n",
    "Bu graph embedding'ini Node2Vec kütüphanesini kullanarak elde etmekteyiz \n",
    "Parameters:\n",
    "1) walk_length = 10 \n",
    "2) num_walks = 40\n",
    "\n",
    "pickle kütüphanesini kullanarak elde ettiğimiz eğitilmiş kMeans için gerekli olan modelleri load ediyoruz.\n",
    "Load Ettiğimiz modellerle bize verilen graph'ın sonucunu predict ederek bu predict edilen sonucu dönüyoruz.\n",
    "\n",
    "# Kullanma yöntemi:\n",
    "Networkx graph'ınızı \"scriptKullanilacakFonksiyon\" isimli fonksiyona vermeniz yeterlidir.\n",
    "Bu fonksiyon graph'ınızı alacak ve sonucunda prediction'ı dönecektir.\n",
    "Fonksiyonda dönen değer 1 ise Partition edilebilir (Yani Yes label'lı), 0 ise Partition edilemez(Yani No label'li)\n",
    "\n",
    "# Gerekli kutuphaneler\n",
    "1) numpy\n",
    "2) node2Vec (Version 0.4.6)\n",
    "3) pickle   (Version 0.7.5)"
   ]
  },
  {
   "cell_type": "code",
   "execution_count": 1,
   "metadata": {},
   "outputs": [
    {
     "name": "stderr",
     "output_type": "stream",
     "text": [
      "c:\\Users\\bora\\anaconda3\\envs\\test1\\lib\\site-packages\\tqdm\\auto.py:22: TqdmWarning: IProgress not found. Please update jupyter and ipywidgets. See https://ipywidgets.readthedocs.io/en/stable/user_install.html\n",
      "  from .autonotebook import tqdm as notebook_tqdm\n"
     ]
    }
   ],
   "source": [
    "# General Libraries\n",
    "import random as rand\n",
    "import numpy as np\n",
    "# Graph Representation & Embedding Library\n",
    "import networkx as nx \n",
    "from node2vec import Node2Vec\n",
    "import pickle"
   ]
  },
  {
   "cell_type": "code",
   "execution_count": 2,
   "metadata": {},
   "outputs": [],
   "source": [
    "def getEmbedding(G):\n",
    "    # Precompute probabilities and generate walks\n",
    "    node2vec = Node2Vec(G, dimensions=30, walk_length=10, num_walks=40, workers=4)\n",
    "\n",
    "    # Embed nodes\n",
    "    model = node2vec.fit(window=5, min_count=1, batch_words=4)\n",
    "\n",
    "    # Get embeddings for all nodes in the graph\n",
    "    all_node_embeddings = {node: model.wv[str(node)] for node in G.nodes()}\n",
    "\n",
    "    return all_node_embeddings\n",
    "    # loaded_model = Node2Vec.load(\"node2vec_model.bin\")\n",
    "    # loaded_embedding = loaded_model.wv['0']\n",
    "    # print(f\"Loaded Embedding for Node 0: {loaded_embedding}\")\n",
    "\n",
    "def dictionaryToNpArray(embedding):\n",
    "    array_from_dict = np.array(list(embedding.values()))\n",
    "    return array_from_dict\n"
   ]
  },
  {
   "cell_type": "code",
   "execution_count": 3,
   "metadata": {},
   "outputs": [],
   "source": [
    "def scriptKullanilacakFonksiyon(G):\n",
    "    # Modeli yükleyip kullanma\n",
    "    # K-Means modelini yükle\n",
    "    with open('logistic_regression_model.pickle', 'rb') as model_file:\n",
    "        loaded_classifier = pickle.load(model_file)\n",
    "\n",
    "    nodeEmbeddings = getEmbedding(G) \n",
    "    nodeEmbeddingsArray = dictionaryToNpArray(nodeEmbeddings)\n",
    "    graphEmbedding = np.mean(nodeEmbeddingsArray, axis=0).astype('float')\n",
    "\n",
    "    result_prediction = loaded_classifier.predict(graphEmbedding.reshape(1, -1))\n",
    "\n",
    "    # Prediction 0.5'den buyukse 1 veriyor (Yani partition edilebilir)\n",
    "    if result_prediction > 0.5:\n",
    "        return 1\n",
    "    \n",
    "    # Prediction 0.5'den kucukse 0 veriyor (Yani partition edilemedi)\n",
    "    else: \n",
    "        return 0\n",
    "    \n"
   ]
  },
  {
   "cell_type": "code",
   "execution_count": 4,
   "metadata": {},
   "outputs": [
    {
     "name": "stderr",
     "output_type": "stream",
     "text": [
      "c:\\Users\\bora\\anaconda3\\envs\\test1\\lib\\site-packages\\sklearn\\base.py:315: UserWarning: Trying to unpickle estimator LogisticRegression from version 1.3.2 when using version 0.24.2. This might lead to breaking code or invalid results. Use at your own risk.\n",
      "  UserWarning)\n",
      "Computing transition probabilities: 100%|██████████| 10/10 [00:00<00:00, 10007.88it/s]\n"
     ]
    },
    {
     "name": "stdout",
     "output_type": "stream",
     "text": [
      "1\n"
     ]
    }
   ],
   "source": [
    "G = nx.connected_watts_strogatz_graph(n=10, k=3, p=0.3)\n",
    "print(scriptKullanilacakFonksiyon(G))"
   ]
  }
 ],
 "metadata": {
  "kernelspec": {
   "display_name": "yap470",
   "language": "python",
   "name": "python3"
  },
  "language_info": {
   "codemirror_mode": {
    "name": "ipython",
    "version": 3
   },
   "file_extension": ".py",
   "mimetype": "text/x-python",
   "name": "python",
   "nbconvert_exporter": "python",
   "pygments_lexer": "ipython3",
   "version": "3.6.13"
  }
 },
 "nbformat": 4,
 "nbformat_minor": 2
}
