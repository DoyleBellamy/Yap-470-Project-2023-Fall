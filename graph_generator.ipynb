{
 "cells": [
  {
   "cell_type": "code",
   "execution_count": 62,
   "metadata": {},
   "outputs": [],
   "source": [
    "import networkx as nx\n",
    "import random as rand\n",
    "import matplotlib.pyplot as plt"
   ]
  },
  {
   "cell_type": "code",
   "execution_count": 63,
   "metadata": {},
   "outputs": [],
   "source": [
    "### Different Graphs Creation Techniques"
   ]
  },
  {
   "cell_type": "code",
   "execution_count": 64,
   "metadata": {},
   "outputs": [],
   "source": [
    "def make_graph_connected(G):\n",
    "    \n",
    "    while not nx.is_connected(G):\n",
    "        # Randomly select two nodes from the graph\n",
    "        node1 = rand.choice(list(G.nodes()))\n",
    "        node2 = rand.choice(list(G.nodes()))\n",
    "\n",
    "        # Add an edge between the selected nodes\n",
    "        G.add_edge(node1, node2)\n",
    "        \n",
    "    return G"
   ]
  },
  {
   "cell_type": "code",
   "execution_count": 65,
   "metadata": {},
   "outputs": [],
   "source": [
    "def generate_watts_strogatz_graph(nodes, k_neighbors, probability, seed):\n",
    "    G = nx.watts_strogatz_graph(nodes, k_neighbors, probability, seed=seed)\n",
    "    return G"
   ]
  },
  {
   "cell_type": "code",
   "execution_count": 66,
   "metadata": {},
   "outputs": [],
   "source": [
    "def generate_barabasi_albert_graph(nodes, edges, seed):\n",
    "    G = nx.barabasi_albert_graph(nodes, edges, seed=seed)\n",
    "    return G"
   ]
  },
  {
   "cell_type": "code",
   "execution_count": 67,
   "metadata": {},
   "outputs": [],
   "source": [
    "def generate_erdos_renyi_graph(nodes, probability, seed):\n",
    "    G = nx.erdos_renyi_graph(nodes, probability, seed=seed)\n",
    "    return G"
   ]
  },
  {
   "cell_type": "code",
   "execution_count": 68,
   "metadata": {},
   "outputs": [],
   "source": [
    "def generate_random_geometric_graph(nodes, radius, seed):\n",
    "    G = nx.random_geometric_graph(nodes, radius, seed=seed)\n",
    "    return G"
   ]
  },
  {
   "cell_type": "code",
   "execution_count": 69,
   "metadata": {},
   "outputs": [],
   "source": [
    "def generate_graph_atlas(graph_name):\n",
    "    G = nx.graph_atlas(graph_name)\n",
    "    return G"
   ]
  },
  {
   "cell_type": "code",
   "execution_count": 70,
   "metadata": {},
   "outputs": [],
   "source": [
    "### Creating Graphs By Types"
   ]
  },
  {
   "cell_type": "code",
   "execution_count": 71,
   "metadata": {},
   "outputs": [],
   "source": [
    "# Planer Graph \n",
    "def generate_planar_graph(nodes, edges):\n",
    "    G = nx.random_planar_graph(nodes, edges)\n",
    "    return G"
   ]
  },
  {
   "cell_type": "code",
   "execution_count": 72,
   "metadata": {},
   "outputs": [],
   "source": [
    "# Euler Graph \n",
    "def generate_euler_graph(nodes, edges):\n",
    "    \n",
    "    # Euler graphs require an even number of nodes\n",
    "    if nodes % 2 != 0:\n",
    "        return None\n",
    "\n",
    "    # Generate an Euler graph with the specified number of nodes and edges\n",
    "    G = nx.random_eulerian_graph(nodes, edges)\n",
    "    return G"
   ]
  },
  {
   "cell_type": "code",
   "execution_count": 73,
   "metadata": {},
   "outputs": [],
   "source": [
    "# Hamiltonian Graph \n",
    "def generate_hamiltonian_graph(nodes):\n",
    "    \n",
    "    # Hamiltonian graphs must have at least 3 nodes\n",
    "    if nodes < 3:\n",
    "        return None\n",
    "\n",
    "    # Generate a Hamiltonian graph with the specified number of nodes\n",
    "    G = nx.hamiltonian_graph(nodes)\n",
    "    return G"
   ]
  },
  {
   "cell_type": "code",
   "execution_count": 74,
   "metadata": {},
   "outputs": [],
   "source": [
    "# Tree-like Graph \n",
    "def generate_tree_graph(nodes, branches=2):\n",
    "    # Create a tree graph with the specified number of nodes and branching factor\n",
    "    G = nx.generators.classic.balanced_tree(branches, nodes)\n",
    "    return G"
   ]
  },
  {
   "cell_type": "code",
   "execution_count": 75,
   "metadata": {},
   "outputs": [],
   "source": [
    "# Bipartite Graph\n",
    "def generate_bipartite_graph(nodes_set1, nodes_set2, edges_prob=0.2):\n",
    "    # Create a bipartite graph with the specified sets of nodes\n",
    "    G = nx.generators.bipartite.random_graph(nodes_set1, nodes_set2, edges_prob)\n",
    "    return G"
   ]
  },
  {
   "cell_type": "code",
   "execution_count": 76,
   "metadata": {},
   "outputs": [],
   "source": [
    "# Square Grid Graph\n",
    "def generate_square_grid_graph(rows, columns):\n",
    "    G = nx.grid_2d_graph(rows, columns)\n",
    "    return G"
   ]
  },
  {
   "cell_type": "code",
   "execution_count": 77,
   "metadata": {},
   "outputs": [],
   "source": [
    "# Triangular Grid Graph\n",
    "def generate_triangular_grid_graph(rows, columns):\n",
    "    G = nx.triangular_lattice_graph(rows, columns)\n",
    "    return G"
   ]
  },
  {
   "cell_type": "code",
   "execution_count": 78,
   "metadata": {},
   "outputs": [],
   "source": [
    "# Complete Graph\n",
    "def generate_complete_graph(num_nodes):\n",
    "    G = nx.complete_graph(num_nodes)\n",
    "    return G"
   ]
  },
  {
   "cell_type": "code",
   "execution_count": 79,
   "metadata": {},
   "outputs": [],
   "source": [
    "# Cyclic Graph\n",
    "def generate_cycle_graph(num_nodes):\n",
    "    G = nx.cycle_graph(num_nodes)\n",
    "    return G"
   ]
  },
  {
   "cell_type": "code",
   "execution_count": 80,
   "metadata": {},
   "outputs": [],
   "source": [
    "# Acyclic Graph\n",
    "def generate_acyclic_graph(num_nodes):\n",
    "    G = nx.generators.random_tree(num_nodes)\n",
    "    return G"
   ]
  },
  {
   "cell_type": "code",
   "execution_count": 81,
   "metadata": {},
   "outputs": [],
   "source": [
    "def is_graph_appropriate(graph):\n",
    "    # Check if the graph is None\n",
    "    if graph is None:\n",
    "        return False\n",
    "\n",
    "    # Check if the graph is empty\n",
    "    if len(graph.nodes()) == 0:\n",
    "        return False\n",
    "    \n",
    "    make_graph_connected(graph)\n",
    "    return True"
   ]
  },
  {
   "cell_type": "code",
   "execution_count": 91,
   "metadata": {},
   "outputs": [
    {
     "data": {
      "image/png": "[encoded data removed]",
      "text/plain": [
       "<Figure size 432x288 with 1 Axes>"
      ]
     },
     "metadata": {},
     "output_type": "display_data"
    }
   ],
   "source": [
    "# Visualize Generated Graph\n",
    "\n",
    "G = generate_triangular_grid_graph(5, 5)\n",
    "\n",
    "is_graph_appropriate(G)\n",
    "\n",
    "nx.draw(G, with_labels=True, font_weight='bold', node_color='skyblue', node_size=100)\n",
    "\n",
    "plt.show()"
   ]
  }
 ],
 "metadata": {
  "kernelspec": {
   "display_name": "test1",
   "language": "python",
   "name": "python3"
  },
  "language_info": {
   "codemirror_mode": {
    "name": "ipython",
    "version": 3
   },
   "file_extension": ".py",
   "mimetype": "text/x-python",
   "name": "python",
   "nbconvert_exporter": "python",
   "pygments_lexer": "ipython3",
   "version": "3.6.13"
  }
 },
 "nbformat": 4,
 "nbformat_minor": 2
}
