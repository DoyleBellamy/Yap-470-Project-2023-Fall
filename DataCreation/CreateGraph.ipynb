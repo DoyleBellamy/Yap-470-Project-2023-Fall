{
 "cells": [
  {
   "cell_type": "code",
   "execution_count": 14,
   "metadata": {},
   "outputs": [],
   "source": [
    "import numpy as np\n",
    "import networkx as nx\n",
    "import random as rand"
   ]
  },
  {
   "cell_type": "code",
   "execution_count": 15,
   "metadata": {},
   "outputs": [
    {
     "name": "stdout",
     "output_type": "stream",
     "text": [
      "[    1     2     3 ...  9998  9999 10000]\n",
      "[10001 10002 10003 ... 19998 19999 20000]\n"
     ]
    }
   ],
   "source": [
    "rand.seed(154)\n",
    "NUMBER_OF_NODES = 10000\n",
    "nodeList1 = np.arange(1,NUMBER_OF_NODES+1)\n",
    "print(nodeList1)\n",
    "nodeList2 = np.arange(NUMBER_OF_NODES+1,2*NUMBER_OF_NODES+1)\n",
    "print(nodeList2)"
   ]
  },
  {
   "cell_type": "code",
   "execution_count": 16,
   "metadata": {},
   "outputs": [],
   "source": [
    "G_1 = nx.Graph()\n",
    "G_1.add_nodes_from(nodeList1)\n",
    "G_2 = nx.Graph()\n",
    "G_2.add_nodes_from(nodeList2)"
   ]
  },
  {
   "cell_type": "code",
   "execution_count": 17,
   "metadata": {},
   "outputs": [
    {
     "name": "stdout",
     "output_type": "stream",
     "text": [
      "Graph with 10000 nodes and 0 edges\n",
      "Graph with 10000 nodes and 0 edges\n"
     ]
    }
   ],
   "source": [
    "print(G_1)\n",
    "print(G_2)"
   ]
  },
  {
   "cell_type": "code",
   "execution_count": 18,
   "metadata": {},
   "outputs": [],
   "source": [
    "NUMBER_OF_EDGES_IN_G_1 = 100000\n",
    "# Adding edge for G_1\n",
    "for i in range(NUMBER_OF_EDGES_IN_G_1):\n",
    "    G_1.add_edge(rand.randint(1,NUMBER_OF_NODES),rand.randint(1,NUMBER_OF_NODES))"
   ]
  },
  {
   "cell_type": "code",
   "execution_count": 19,
   "metadata": {},
   "outputs": [
    {
     "name": "stdout",
     "output_type": "stream",
     "text": [
      "Graph with 10000 nodes and 99915 edges\n"
     ]
    }
   ],
   "source": [
    "print(G_1)"
   ]
  },
  {
   "cell_type": "code",
   "execution_count": 20,
   "metadata": {},
   "outputs": [],
   "source": [
    "NUMBER_OF_EDGES_IN_G_2 = 100000\n",
    "# Adding edge for G_2\n",
    "for i in range(NUMBER_OF_EDGES_IN_G_2):\n",
    "    G_2.add_edge(rand.randint(NUMBER_OF_NODES+1,2*NUMBER_OF_NODES),rand.randint(NUMBER_OF_NODES+1,2*NUMBER_OF_NODES))"
   ]
  },
  {
   "cell_type": "code",
   "execution_count": 21,
   "metadata": {},
   "outputs": [
    {
     "name": "stdout",
     "output_type": "stream",
     "text": [
      "Graph with 10000 nodes and 99901 edges\n"
     ]
    }
   ],
   "source": [
    "print(G_2)"
   ]
  },
  {
   "cell_type": "code",
   "execution_count": 22,
   "metadata": {},
   "outputs": [],
   "source": [
    "G_union = nx.union(G_1,G_2,rename=(\"G_1\",\"G_2\"))"
   ]
  },
  {
   "cell_type": "code",
   "execution_count": 23,
   "metadata": {},
   "outputs": [
    {
     "name": "stdout",
     "output_type": "stream",
     "text": [
      "Graph with 20000 nodes and 199816 edges\n"
     ]
    }
   ],
   "source": [
    "print(G_union)"
   ]
  },
  {
   "cell_type": "code",
   "execution_count": 24,
   "metadata": {},
   "outputs": [],
   "source": [
    "EDGES_BETWEEN_PARTITIONS = 3\n",
    "for i in range (EDGES_BETWEEN_PARTITIONS):\n",
    "    G_union.add_edge(rand.randint(1,NUMBER_OF_NODES),rand.randint(NUMBER_OF_NODES+1,2*NUMBER_OF_NODES))"
   ]
  },
  {
   "cell_type": "code",
   "execution_count": 25,
   "metadata": {},
   "outputs": [
    {
     "name": "stdout",
     "output_type": "stream",
     "text": [
      "Graph with 20006 nodes and 199819 edges\n"
     ]
    }
   ],
   "source": [
    "print(G_union)"
   ]
  },
  {
   "cell_type": "code",
   "execution_count": null,
   "metadata": {},
   "outputs": [],
   "source": []
  }
 ],
 "metadata": {
  "kernelspec": {
   "display_name": "yap470",
   "language": "python",
   "name": "python3"
  },
  "language_info": {
   "codemirror_mode": {
    "name": "ipython",
    "version": 3
   },
   "file_extension": ".py",
   "mimetype": "text/x-python",
   "name": "python",
   "nbconvert_exporter": "python",
   "pygments_lexer": "ipython3",
   "version": "3.11.5"
  }
 },
 "nbformat": 4,
 "nbformat_minor": 2
}
