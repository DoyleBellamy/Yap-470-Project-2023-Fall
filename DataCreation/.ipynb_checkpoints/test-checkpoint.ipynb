{
 "cells": [
  {
   "cell_type": "code",
   "execution_count": 8,
   "metadata": {},
   "outputs": [
    {
     "ename": "ModuleNotFoundError",
     "evalue": "No module named 'stellargraph'",
     "output_type": "error",
     "traceback": [
      "\u001b[1;31m---------------------------------------------------------------------------\u001b[0m",
      "\u001b[1;31mModuleNotFoundError\u001b[0m                       Traceback (most recent call last)",
      "\u001b[1;32mc:\\Users\\bora\\Documents\\GitHub\\Yap-470-Project-2023-Fall\\DataCreation\\test.ipynb Cell 1\u001b[0m line \u001b[0;36m7\n\u001b[0;32m      <a href='vscode-notebook-cell:/c%3A/Users/bora/Documents/GitHub/Yap-470-Project-2023-Fall/DataCreation/test.ipynb#W0sZmlsZQ%3D%3D?line=4'>5</a>\u001b[0m \u001b[39mfrom\u001b[39;00m \u001b[39mkernighan_lin\u001b[39;00m \u001b[39mimport\u001b[39;00m kernighan_lin_bisection\n\u001b[0;32m      <a href='vscode-notebook-cell:/c%3A/Users/bora/Documents/GitHub/Yap-470-Project-2023-Fall/DataCreation/test.ipynb#W0sZmlsZQ%3D%3D?line=5'>6</a>\u001b[0m \u001b[39mimport\u001b[39;00m \u001b[39mnetworkx\u001b[39;00m \u001b[39mas\u001b[39;00m \u001b[39mnx\u001b[39;00m\n\u001b[1;32m----> <a href='vscode-notebook-cell:/c%3A/Users/bora/Documents/GitHub/Yap-470-Project-2023-Fall/DataCreation/test.ipynb#W0sZmlsZQ%3D%3D?line=6'>7</a>\u001b[0m \u001b[39mfrom\u001b[39;00m \u001b[39mstellargraph\u001b[39;00m \u001b[39mimport\u001b[39;00m StellarGraph\n\u001b[0;32m      <a href='vscode-notebook-cell:/c%3A/Users/bora/Documents/GitHub/Yap-470-Project-2023-Fall/DataCreation/test.ipynb#W0sZmlsZQ%3D%3D?line=7'>8</a>\u001b[0m \u001b[39mfrom\u001b[39;00m \u001b[39mstellargraph\u001b[39;00m\u001b[39m.\u001b[39;00m\u001b[39mmapper\u001b[39;00m \u001b[39mimport\u001b[39;00m GraphSAGENodeGenerator\n\u001b[0;32m      <a href='vscode-notebook-cell:/c%3A/Users/bora/Documents/GitHub/Yap-470-Project-2023-Fall/DataCreation/test.ipynb#W0sZmlsZQ%3D%3D?line=8'>9</a>\u001b[0m \u001b[39mfrom\u001b[39;00m \u001b[39mstellargraph\u001b[39;00m\u001b[39m.\u001b[39;00m\u001b[39mlayer\u001b[39;00m \u001b[39mimport\u001b[39;00m GraphSAGE\n",
      "\u001b[1;31mModuleNotFoundError\u001b[0m: No module named 'stellargraph'"
     ]
    }
   ],
   "source": [
    "import networkx as nx\n",
    "import random as rand\n",
    "import numpy as np\n",
    "import matplotlib.pyplot as plt\n",
    "from kernighan_lin import kernighan_lin_bisection\n",
    "import networkx as nx\n",
    "from stellargraph import StellarGraph\n",
    "from stellargraph.mapper import GraphSAGENodeGenerator\n",
    "from stellargraph.layer import GraphSAGE\n",
    "import pandas as pd\n"
   ]
  },
  {
   "cell_type": "code",
   "execution_count": 3,
   "metadata": {},
   "outputs": [],
   "source": [
    "# We can get from timeclock\n",
    "SEED_OF_RANDOM = 2524\n",
    "rand.seed(SEED_OF_RANDOM)"
   ]
  },
  {
   "cell_type": "code",
   "execution_count": 4,
   "metadata": {},
   "outputs": [],
   "source": [
    "# Half of the number of nodes\n",
    "# We will use 2 graph to generate yes labeled graph\n",
    "NUMBER_OF_NODES = 100\n",
    "nodeList_1 = np.arange(1,NUMBER_OF_NODES+1)\n",
    "nodeList_2 = np.arange(NUMBER_OF_NODES+1,2*NUMBER_OF_NODES+1)"
   ]
  },
  {
   "cell_type": "code",
   "execution_count": 5,
   "metadata": {},
   "outputs": [],
   "source": [
    "def create_connected_graph(node_list):\n",
    "    # Create an empty graph\n",
    "    G = nx.Graph()\n",
    "\n",
    "    # Add nodes from the specific node list\n",
    "    G.add_nodes_from(node_list)\n",
    "\n",
    "    # Add edges to connect the nodes and ensure connectivity\n",
    "    while not nx.is_connected(G):\n",
    "        # Randomly select two nodes from the graph\n",
    "        node1 = rand.choice(list(G.nodes()))\n",
    "        node2 = rand.choice(list(G.nodes()))\n",
    "\n",
    "        # Add an edge between the selected nodes\n",
    "        G.add_edge(node1, node2)\n",
    "\n",
    "    return G"
   ]
  },
  {
   "cell_type": "code",
   "execution_count": null,
   "metadata": {},
   "outputs": [],
   "source": [
    "# simulate graph creation\n",
    "\n",
    "def simulate_graph_creation(min_size, max_size, min_edge_between, max_edge_between):\n",
    "        \n",
    "    # Creating Graphs\n",
    "    NUMBER_OF_NODES = rand.randint(min_size, max_size)\n",
    "        \n",
    "    nodeList_1 = np.arange(1, (NUMBER_OF_NODES+1)/2)\n",
    "    nodeList_2 = np.arange((NUMBER_OF_NODES+1)/2, NUMBER_OF_NODES+1)\n",
    "        \n",
    "    connected_graph_1 = create_connected_graph(nodeList_1)\n",
    "    connected_graph_2 = create_connected_graph(nodeList_2)\n",
    "        \n",
    "    RENAME_1 = 'G_1_' \n",
    "    RENAME_2 = 'G_2_'\n",
    "    G_union = nx.union(connected_graph_1, connected_graph_2, rename = (RENAME_1, RENAME_2))\n",
    "        \n",
    "    # Setting Edges\n",
    "    EDGES_BETWEEN_PARTITIONS = rand.randint(min_edge_between, max_edge_between)\n",
    "        \n",
    "    for i in range (EDGES_BETWEEN_PARTITIONS):\n",
    "        node1 = RENAME_1 + str(rand.randint(1, NUMBER_OF_NODES))\n",
    "        node2 = RENAME_2 + str(rand.randint(1, NUMBER_OF_NODES))\n",
    "        G_union.add_edge(node1, node2)\n",
    "        \n",
    "    return G_union, EDGES_BETWEEN_PARTITIONS "
   ]
  },
  {
   "cell_type": "code",
   "execution_count": null,
   "metadata": {},
   "outputs": [],
   "source": [
    "# labeling\n",
    "\n",
    "def label_given_graph(graph, edges):\n",
    "    \n",
    "    partition = kernighan_lin_bisection(graph, max_iter = 200)\n",
    "    \n",
    "    G_partition1 = graph.subgraph(partition[0])\n",
    "    G_partition2 = graph.subgraph(partition[1])\n",
    "    \n",
    "    # Check Vertex Constraint\n",
    "    total_vertices = graph.number_of_vertices()\n",
    "    partition_1_vertices = G_partition1.number_of_vertices()\n",
    "    partition_2_vertices = G_partition2.number_of_vertices()\n",
    "    \n",
    "    min_vertex_bound = total_vertices/2 - total_vertices*0.01\n",
    "    max_vertex_bound = total_vertices/2 + total_vertices*0.01\n",
    "    \n",
    "    if not ((min_vertex_bound <= partition_1_vertices <= max_vertex_bound) and (min_vertex_bound <= partition_2_vertices <= max_vertex_bound)):\n",
    "        return False\n",
    "    \n",
    "    # Check Edge Constraint\n",
    "    total_edges = graph.number_of_edges()\n",
    "    partition_1_edges = G_partition1.number_of_edges()\n",
    "    partition_2_edges = G_partition2.number_of_edges()\n",
    "\n",
    "    min_cut_edge_amount = total_edges-partition_1_edges-partition_2_edges\n",
    "    \n",
    "    if edges >= min_cut_edge_amount:\n",
    "        return True\n",
    "    else:\n",
    "        return False"
   ]
  },
  {
   "cell_type": "code",
   "execution_count": 7,
   "metadata": {},
   "outputs": [
    {
     "ename": "NameError",
     "evalue": "name 'simulate_graph_creation' is not defined",
     "output_type": "error",
     "traceback": [
      "\u001b[1;31m---------------------------------------------------------------------------\u001b[0m",
      "\u001b[1;31mNameError\u001b[0m                                 Traceback (most recent call last)",
      "\u001b[1;32mc:\\Users\\bora\\Documents\\GitHub\\Yap-470-Project-2023-Fall\\DataCreation\\test.ipynb Cell 7\u001b[0m line \u001b[0;36m6\n\u001b[0;32m      <a href='vscode-notebook-cell:/c%3A/Users/bora/Documents/GitHub/Yap-470-Project-2023-Fall/DataCreation/test.ipynb#X15sZmlsZQ%3D%3D?line=2'>3</a>\u001b[0m TEST_AMOUNT \u001b[39m=\u001b[39m \u001b[39m1\u001b[39m\n\u001b[0;32m      <a href='vscode-notebook-cell:/c%3A/Users/bora/Documents/GitHub/Yap-470-Project-2023-Fall/DataCreation/test.ipynb#X15sZmlsZQ%3D%3D?line=4'>5</a>\u001b[0m \u001b[39mfor\u001b[39;00m i \u001b[39min\u001b[39;00m \u001b[39mrange\u001b[39m(TEST_AMOUNT):\n\u001b[1;32m----> <a href='vscode-notebook-cell:/c%3A/Users/bora/Documents/GitHub/Yap-470-Project-2023-Fall/DataCreation/test.ipynb#X15sZmlsZQ%3D%3D?line=5'>6</a>\u001b[0m     G, edges \u001b[39m=\u001b[39m simulate_graph_creation()\n\u001b[0;32m      <a href='vscode-notebook-cell:/c%3A/Users/bora/Documents/GitHub/Yap-470-Project-2023-Fall/DataCreation/test.ipynb#X15sZmlsZQ%3D%3D?line=6'>7</a>\u001b[0m     label_val \u001b[39m=\u001b[39m label_given_graph(G, edges)\n\u001b[0;32m      <a href='vscode-notebook-cell:/c%3A/Users/bora/Documents/GitHub/Yap-470-Project-2023-Fall/DataCreation/test.ipynb#X15sZmlsZQ%3D%3D?line=8'>9</a>\u001b[0m     \u001b[39m# using G and label_val I need to graph embeding + graphSAGE representation of Graph G and map this representation with label_val and save this into excel file \u001b[39;00m\n",
      "\u001b[1;31mNameError\u001b[0m: name 'simulate_graph_creation' is not defined"
     ]
    }
   ],
   "source": [
    "# testing \n",
    "\n",
    "TEST_AMOUNT = 1\n",
    "\n",
    "for i in range(TEST_AMOUNT):\n",
    "    # Simulate graph creation\n",
    "    G, edges = simulate_graph_creation()\n",
    "\n",
    "    # Label the graph\n",
    "    label_val = label_given_graph(G, edges)\n",
    "\n",
    "    # Convert NetworkX graph to StellarGraph\n",
    "    G_stellar = StellarGraph.from_networkx(G)\n",
    "\n",
    "    # GraphSAGE representation\n",
    "    generator = GraphSAGENodeGenerator(G_stellar, batch_size=50, num_samples=[5, 5])\n",
    "    model = GraphSAGE( layer_sizes=[50, 50], generator=generator, bias=True, dropout = 0.5)\n",
    "    x_in, x_out = model.in_out_tensors()\n",
    "\n",
    "    # Compile the model\n",
    "    model.compile(optimizer=\"adam\", loss=\"sparse_categorical_crossentropy\", metrics=[\"acc\"])\n",
    "\n",
    "    # Train GraphSAGE (you may need to customize this part based on your actual data)\n",
    "    nodes = G_stellar.nodes()\n",
    "    labels = [1 if label_val else 0]  # Assuming label_val is boolean\n",
    "\n",
    "    # Train the model\n",
    "    model.fit(generator.flow(nodes, labels), epochs=10)\n",
    "\n",
    "    # Obtain the graph embedding for all nodes\n",
    "    embedding_model = Model(inputs=x_in, outputs=x_out)\n",
    "    node_ids = G_stellar.nodes()\n",
    "    node_gen = generator.flow(node_ids)\n",
    "    node_embeddings = embedding_model.predict(node_gen)\n",
    "\n",
    "    # Map the representation with label_val (assuming label_val is boolean)\n",
    "    mapping_result = dict(zip(node_ids, node_embeddings))\n",
    "\n",
    "    # Save the mapping to an Excel file\n",
    "    df = pd.DataFrame.from_dict(mapping_result, orient=\"index\")\n",
    "    df.to_excel(f\"graph_mapping_{i}.xlsx\")\n",
    "    "
   ]
  },
  {
   "cell_type": "code",
   "execution_count": null,
   "metadata": {},
   "outputs": [],
   "source": [
    "connected_graph_1 = create_connected_graph(nodeList_1)\n",
    "print(nx.is_connected(connected_graph_1))\n",
    "\n",
    "connected_graph_2 = create_connected_graph(nodeList_2)\n",
    "print(nx.is_connected(connected_graph_1))"
   ]
  },
  {
   "cell_type": "code",
   "execution_count": null,
   "metadata": {},
   "outputs": [],
   "source": [
    "# Get one main Graph\n",
    "RENAME_1 = 'G_1_' \n",
    "RENAME_2 = 'G_2_'\n",
    "G_union = nx.union(connected_graph_1,connected_graph_1,rename=(RENAME_1,RENAME_2))\n",
    "nx.draw(G_union,with_labels= True, font_weight = 'bold')\n",
    "plt.show()\n",
    "print(G_union)"
   ]
  },
  {
   "cell_type": "code",
   "execution_count": null,
   "metadata": {},
   "outputs": [],
   "source": [
    "# We are adding edges between 2 connected subgraph\n",
    "\n",
    "# Threshold will be determined by a formula\n",
    "# TODO\n",
    "print(list(G_union.nodes()))\n",
    "EDGES_BETWEEN_PARTITIONS = 3\n",
    "for i in range (EDGES_BETWEEN_PARTITIONS):\n",
    "    node1 = RENAME_1 + str(rand.randint(1,NUMBER_OF_NODES))\n",
    "    node2 = RENAME_2 + str(rand.randint(1,NUMBER_OF_NODES))\n",
    "    G_union.add_edge(node1,node2)"
   ]
  },
  {
   "cell_type": "code",
   "execution_count": null,
   "metadata": {},
   "outputs": [],
   "source": [
    "# Trying the kernighan-lin algorithm\n",
    "partition = kernighan_lin_bisection(G_union,max_iter = 200)"
   ]
  },
  {
   "cell_type": "code",
   "execution_count": null,
   "metadata": {},
   "outputs": [],
   "source": [
    "G_partition1 = G_union.subgraph(partition[0])\n",
    "G_partition2 = G_union.subgraph(partition[1])"
   ]
  }
 ],
 "metadata": {
  "kernelspec": {
   "display_name": "Python 3",
   "language": "python",
   "name": "python3"
  },
  "language_info": {
   "codemirror_mode": {
    "name": "ipython",
    "version": 3
   },
   "file_extension": ".py",
   "mimetype": "text/x-python",
   "name": "python",
   "nbconvert_exporter": "python",
   "pygments_lexer": "ipython3",
   "version": "3.11.6"
  }
 },
 "nbformat": 4,
 "nbformat_minor": 2
}
