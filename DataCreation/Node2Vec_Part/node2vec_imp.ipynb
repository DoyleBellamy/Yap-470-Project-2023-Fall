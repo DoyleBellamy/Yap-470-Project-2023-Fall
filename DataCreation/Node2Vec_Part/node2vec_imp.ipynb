{
 "cells": [
  {
   "cell_type": "code",
   "execution_count": 2,
   "metadata": {},
   "outputs": [],
   "source": [
    "import networkx as nx\n",
    "from node2vec import Node2Vec"
   ]
  },
  {
   "cell_type": "code",
   "execution_count": 4,
   "metadata": {},
   "outputs": [],
   "source": [
    "\n",
    "def getEmbedding(G):\n",
    "    # Precompute probabilities and generate walks\n",
    "    node2vec = Node2Vec(G, dimensions=64, walk_length=30, num_walks=200, workers=4)\n",
    "\n",
    "    # Embed nodes\n",
    "    model = node2vec.fit(window=10, min_count=1, batch_words=4)\n",
    "\n",
    "    # Get embeddings for all nodes in the graph\n",
    "    all_node_embeddings = {node: model.wv[str(node)] for node in G.nodes()}\n",
    "\n",
    "    print(\"Embedding for Node 1:\", all_node_embeddings[1])\n",
    "    return all_node_embeddings\n",
    "    # loaded_model = Node2Vec.load(\"node2vec_model.bin\")\n",
    "    # loaded_embedding = loaded_model.wv['0']\n",
    "    # print(f\"Loaded Embedding for Node 0: {loaded_embedding}\")"
   ]
  },
  {
   "cell_type": "code",
   "execution_count": null,
   "metadata": {},
   "outputs": [],
   "source": [
    "# TODO\n",
    "def writeEmbeddingToFile(embeddingList):\n",
    "    return 0\n"
   ]
  }
 ],
 "metadata": {
  "kernelspec": {
   "display_name": "yap470",
   "language": "python",
   "name": "python3"
  },
  "language_info": {
   "codemirror_mode": {
    "name": "ipython",
    "version": 3
   },
   "file_extension": ".py",
   "mimetype": "text/x-python",
   "name": "python",
   "nbconvert_exporter": "python",
   "pygments_lexer": "ipython3",
   "version": "3.11.5"
  }
 },
 "nbformat": 4,
 "nbformat_minor": 2
}
