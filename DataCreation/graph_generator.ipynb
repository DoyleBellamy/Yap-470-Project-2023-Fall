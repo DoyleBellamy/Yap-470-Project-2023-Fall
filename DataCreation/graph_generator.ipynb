{
 "cells": [
  {
   "cell_type": "code",
   "execution_count": 124,
   "metadata": {},
   "outputs": [],
   "source": [
    "import networkx as nx\n",
    "import random as rand\n",
    "import matplotlib.pyplot as plt"
   ]
  },
  {
   "cell_type": "code",
   "execution_count": 125,
   "metadata": {},
   "outputs": [],
   "source": [
    "### Different Graphs Creation Techniques"
   ]
  },
  {
   "cell_type": "code",
   "execution_count": 126,
   "metadata": {},
   "outputs": [],
   "source": [
    "def make_graph_connected(G):\n",
    "    \n",
    "    while not nx.is_connected(G):\n",
    "        # Randomly select two nodes from the graph\n",
    "        node1 = rand.choice(list(G.nodes()))\n",
    "        node2 = rand.choice(list(G.nodes()))\n",
    "\n",
    "        # Add an edge between the selected nodes\n",
    "        G.add_edge(node1, node2)\n",
    "        \n",
    "    return G"
   ]
  },
  {
   "cell_type": "code",
   "execution_count": 127,
   "metadata": {},
   "outputs": [],
   "source": [
    "def generate_watts_strogatz_graph(nodes, k_neighbors, probability, seed):\n",
    "    G = nx.watts_strogatz_graph(nodes, k_neighbors, probability, seed=seed)\n",
    "    return G"
   ]
  },
  {
   "cell_type": "code",
   "execution_count": 128,
   "metadata": {},
   "outputs": [],
   "source": [
    "def generate_barabasi_albert_graph(nodes, edges, seed):\n",
    "    G = nx.barabasi_albert_graph(nodes, edges, seed=seed)\n",
    "    return G"
   ]
  },
  {
   "cell_type": "code",
   "execution_count": 129,
   "metadata": {},
   "outputs": [],
   "source": [
    "def generate_erdos_renyi_graph(nodes, probability, seed):\n",
    "    G = nx.erdos_renyi_graph(nodes, probability, seed=seed)\n",
    "    return G"
   ]
  },
  {
   "cell_type": "code",
   "execution_count": 130,
   "metadata": {},
   "outputs": [],
   "source": [
    "def generate_random_geometric_graph(nodes, radius, seed):\n",
    "    G = nx.random_geometric_graph(nodes, radius, seed=seed)\n",
    "    return G"
   ]
  },
  {
   "cell_type": "code",
   "execution_count": 132,
   "metadata": {},
   "outputs": [],
   "source": [
    "### Creating Graphs By Types"
   ]
  },
  {
   "cell_type": "code",
   "execution_count": 133,
   "metadata": {},
   "outputs": [],
   "source": [
    "# Planer Graph \n",
    "def generate_planar_graph(nodes, edges):\n",
    "    G = nx.random_planar_graph(nodes, edges)\n",
    "    return G"
   ]
  },
  {
   "cell_type": "code",
   "execution_count": 134,
   "metadata": {},
   "outputs": [],
   "source": [
    "# Euler Graph \n",
    "def generate_euler_graph(nodes, edges):\n",
    "    \n",
    "    # Euler graphs require an even number of nodes\n",
    "    if nodes % 2 != 0:\n",
    "        return None\n",
    "\n",
    "    # Generate an Euler graph with the specified number of nodes and edges\n",
    "    G = nx.random_eulerian_graph(nodes, edges)\n",
    "    return G"
   ]
  },
  {
   "cell_type": "code",
   "execution_count": 135,
   "metadata": {},
   "outputs": [],
   "source": [
    "# Hamiltonian Graph \n",
    "def generate_hamiltonian_graph(nodes):\n",
    "    \n",
    "    # Hamiltonian graphs must have at least 3 nodes\n",
    "    if nodes < 3:\n",
    "        return None\n",
    "\n",
    "    # Generate a Hamiltonian graph with the specified number of nodes\n",
    "    G = nx.hamiltonian_graph(nodes)\n",
    "    return G"
   ]
  },
  {
   "cell_type": "code",
   "execution_count": 136,
   "metadata": {},
   "outputs": [],
   "source": [
    "# Tree-like Graph \n",
    "def generate_tree_graph(nodes, branches=2):\n",
    "    # Create a tree graph with the specified number of nodes and branching factor\n",
    "    G = nx.generators.classic.balanced_tree(branches, nodes)\n",
    "    return G"
   ]
  },
  {
   "cell_type": "code",
   "execution_count": 137,
   "metadata": {},
   "outputs": [],
   "source": [
    "# Square Grid Graph\n",
    "def generate_square_grid_graph(rows, columns):\n",
    "    G = nx.grid_2d_graph(rows, columns)\n",
    "    return G"
   ]
  },
  {
   "cell_type": "code",
   "execution_count": 138,
   "metadata": {},
   "outputs": [],
   "source": [
    "# Triangular Grid Graph\n",
    "def generate_triangular_grid_graph(rows, columns):\n",
    "    G = nx.triangular_lattice_graph(rows, columns)\n",
    "    return G"
   ]
  },
  {
   "cell_type": "code",
   "execution_count": 139,
   "metadata": {},
   "outputs": [],
   "source": [
    "# Complete Graph\n",
    "def generate_complete_graph(num_nodes):\n",
    "    G = nx.complete_graph(num_nodes)\n",
    "    return G"
   ]
  },
  {
   "cell_type": "code",
   "execution_count": 140,
   "metadata": {},
   "outputs": [],
   "source": [
    "# Cyclic Graph\n",
    "def generate_cycle_graph(num_nodes):\n",
    "    G = nx.cycle_graph(num_nodes)\n",
    "    return G"
   ]
  },
  {
   "cell_type": "code",
   "execution_count": 141,
   "metadata": {},
   "outputs": [],
   "source": [
    "# Acyclic Graph\n",
    "def generate_acyclic_graph(num_nodes):\n",
    "    G = nx.generators.random_tree(num_nodes)\n",
    "    return G"
   ]
  },
  {
   "cell_type": "code",
   "execution_count": 142,
   "metadata": {},
   "outputs": [],
   "source": [
    "def is_graph_appropriate(graph):\n",
    "    # Check if the graph is None\n",
    "    if graph is None:\n",
    "        return False\n",
    "\n",
    "    # Check if the graph is empty\n",
    "    if len(graph.nodes()) == 0:\n",
    "        return False\n",
    "    \n",
    "    make_graph_connected(graph)\n",
    "    return True"
   ]
  },
  {
   "cell_type": "code",
   "execution_count": 146,
   "metadata": {},
   "outputs": [
    {
     "ename": "TypeError",
     "evalue": "'<=' not supported between instances of 'int' and 'str'",
     "output_type": "error",
     "traceback": [
      "\u001b[0;31m---------------------------------------------------------------------------\u001b[0m",
      "\u001b[0;31mTypeError\u001b[0m                                 Traceback (most recent call last)",
      "\u001b[1;32m/home/umutozdemir/Desktop/Yap-470-Project-2023-Fall/DataCreation/graph_generator.ipynb Cell 20\u001b[0m line \u001b[0;36m3\n\u001b[1;32m      <a href='vscode-notebook-cell:/home/umutozdemir/Desktop/Yap-470-Project-2023-Fall/DataCreation/graph_generator.ipynb#X25sZmlsZQ%3D%3D?line=0'>1</a>\u001b[0m \u001b[39m# Visualize Generated Graph\u001b[39;00m\n\u001b[0;32m----> <a href='vscode-notebook-cell:/home/umutozdemir/Desktop/Yap-470-Project-2023-Fall/DataCreation/graph_generator.ipynb#X25sZmlsZQ%3D%3D?line=2'>3</a>\u001b[0m G \u001b[39m=\u001b[39m generate_graph_atlas(\u001b[39m'\u001b[39m\u001b[39mChvátal graph\u001b[39m\u001b[39m'\u001b[39m)\n\u001b[1;32m      <a href='vscode-notebook-cell:/home/umutozdemir/Desktop/Yap-470-Project-2023-Fall/DataCreation/graph_generator.ipynb#X25sZmlsZQ%3D%3D?line=5'>6</a>\u001b[0m nx\u001b[39m.\u001b[39mdraw(G, with_labels\u001b[39m=\u001b[39m\u001b[39mTrue\u001b[39;00m, font_weight\u001b[39m=\u001b[39m\u001b[39m'\u001b[39m\u001b[39mbold\u001b[39m\u001b[39m'\u001b[39m, node_color\u001b[39m=\u001b[39m\u001b[39m'\u001b[39m\u001b[39mskyblue\u001b[39m\u001b[39m'\u001b[39m, node_size\u001b[39m=\u001b[39m\u001b[39m100\u001b[39m)\n\u001b[1;32m      <a href='vscode-notebook-cell:/home/umutozdemir/Desktop/Yap-470-Project-2023-Fall/DataCreation/graph_generator.ipynb#X25sZmlsZQ%3D%3D?line=7'>8</a>\u001b[0m plt\u001b[39m.\u001b[39mshow()\n",
      "\u001b[1;32m/home/umutozdemir/Desktop/Yap-470-Project-2023-Fall/DataCreation/graph_generator.ipynb Cell 20\u001b[0m line \u001b[0;36m2\n\u001b[1;32m      <a href='vscode-notebook-cell:/home/umutozdemir/Desktop/Yap-470-Project-2023-Fall/DataCreation/graph_generator.ipynb#X25sZmlsZQ%3D%3D?line=0'>1</a>\u001b[0m \u001b[39mdef\u001b[39;00m \u001b[39mgenerate_graph_atlas\u001b[39m(graph_name):\n\u001b[0;32m----> <a href='vscode-notebook-cell:/home/umutozdemir/Desktop/Yap-470-Project-2023-Fall/DataCreation/graph_generator.ipynb#X25sZmlsZQ%3D%3D?line=1'>2</a>\u001b[0m     G \u001b[39m=\u001b[39m nx\u001b[39m.\u001b[39mgraph_atlas(graph_name)\n\u001b[1;32m      <a href='vscode-notebook-cell:/home/umutozdemir/Desktop/Yap-470-Project-2023-Fall/DataCreation/graph_generator.ipynb#X25sZmlsZQ%3D%3D?line=2'>3</a>\u001b[0m     \u001b[39mreturn\u001b[39;00m G\n",
      "File \u001b[0;32m~/anaconda3/envs/yap470/lib/python3.11/site-packages/networkx/generators/atlas.py:124\u001b[0m, in \u001b[0;36mgraph_atlas\u001b[0;34m(i)\u001b[0m\n\u001b[1;32m     91\u001b[0m \u001b[39mdef\u001b[39;00m \u001b[39mgraph_atlas\u001b[39m(i):\n\u001b[1;32m     92\u001b[0m \u001b[39m    \u001b[39m\u001b[39m\"\"\"Returns graph number `i` from the Graph Atlas.\u001b[39;00m\n\u001b[1;32m     93\u001b[0m \n\u001b[1;32m     94\u001b[0m \u001b[39m    For more information, see :func:`.graph_atlas_g`.\u001b[39;00m\n\u001b[0;32m   (...)\u001b[0m\n\u001b[1;32m    122\u001b[0m \n\u001b[1;32m    123\u001b[0m \u001b[39m    \"\"\"\u001b[39;00m\n\u001b[0;32m--> 124\u001b[0m     \u001b[39mif\u001b[39;00m \u001b[39mnot\u001b[39;00m (\u001b[39m0\u001b[39m \u001b[39m<\u001b[39m\u001b[39m=\u001b[39m i \u001b[39m<\u001b[39m NUM_GRAPHS):\n\u001b[1;32m    125\u001b[0m         \u001b[39mraise\u001b[39;00m \u001b[39mValueError\u001b[39;00m(\u001b[39mf\u001b[39m\u001b[39m\"\u001b[39m\u001b[39mindex must be between 0 and \u001b[39m\u001b[39m{\u001b[39;00mNUM_GRAPHS\u001b[39m}\u001b[39;00m\u001b[39m\"\u001b[39m)\n\u001b[1;32m    126\u001b[0m     \u001b[39mreturn\u001b[39;00m \u001b[39mnext\u001b[39m(islice(_generate_graphs(), i, \u001b[39mNone\u001b[39;00m))\n",
      "\u001b[0;31mTypeError\u001b[0m: '<=' not supported between instances of 'int' and 'str'"
     ]
    }
   ],
   "source": [
    "# Visualize Generated Graph\n",
    "\n",
    "G = generate_graph_atlas('Chvátal graph')\n",
    "\n",
    "\n",
    "nx.draw(G, with_labels=True, font_weight='bold', node_color='skyblue', node_size=100)\n",
    "\n",
    "plt.show()"
   ]
  }
 ],
 "metadata": {
  "kernelspec": {
   "display_name": "test1",
   "language": "python",
   "name": "python3"
  },
  "language_info": {
   "codemirror_mode": {
    "name": "ipython",
    "version": 3
   },
   "file_extension": ".py",
   "mimetype": "text/x-python",
   "name": "python",
   "nbconvert_exporter": "python",
   "pygments_lexer": "ipython3",
   "version": "3.11.5"
  }
 },
 "nbformat": 4,
 "nbformat_minor": 2
}
